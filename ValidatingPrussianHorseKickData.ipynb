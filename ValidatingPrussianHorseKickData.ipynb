{
 "cells": [
  {
   "cell_type": "code",
   "execution_count": 1,
   "id": "676a27ed",
   "metadata": {},
   "outputs": [],
   "source": [
    "import pandas as pd"
   ]
  },
  {
   "cell_type": "code",
   "execution_count": 3,
   "id": "e9535700",
   "metadata": {},
   "outputs": [
    {
     "name": "stdout",
     "output_type": "stream",
     "text": [
      "   No of death  Corpse in whichh k death occured\n",
      "0            0                               109\n",
      "1            1                                65\n",
      "2            2                                22\n",
      "3            3                                 3\n",
      "4            4                                 1\n"
     ]
    }
   ],
   "source": [
    "# assign data of lists.  \n",
    "data = {'No of death': [0, 1, 2, 3, 4], 'Corpse in whichh k death occured': [109, 65, 22, 3, 1]}  \n",
    "  \n",
    "# Create DataFrame  \n",
    "df = pd.DataFrame(data)  \n",
    "  \n",
    "# Print the output.  \n",
    "print(df) "
   ]
  },
  {
   "cell_type": "code",
   "execution_count": 4,
   "id": "abf668bb",
   "metadata": {},
   "outputs": [
    {
     "data": {
      "text/html": [
       "<div>\n",
       "<style scoped>\n",
       "    .dataframe tbody tr th:only-of-type {\n",
       "        vertical-align: middle;\n",
       "    }\n",
       "\n",
       "    .dataframe tbody tr th {\n",
       "        vertical-align: top;\n",
       "    }\n",
       "\n",
       "    .dataframe thead th {\n",
       "        text-align: right;\n",
       "    }\n",
       "</style>\n",
       "<table border=\"1\" class=\"dataframe\">\n",
       "  <thead>\n",
       "    <tr style=\"text-align: right;\">\n",
       "      <th></th>\n",
       "      <th>No of Deaths</th>\n",
       "      <th>CORPS IN WHICH K DEATHS OCCURRED</th>\n",
       "    </tr>\n",
       "  </thead>\n",
       "  <tbody>\n",
       "    <tr>\n",
       "      <th>0</th>\n",
       "      <td>0</td>\n",
       "      <td>109</td>\n",
       "    </tr>\n",
       "    <tr>\n",
       "      <th>1</th>\n",
       "      <td>1</td>\n",
       "      <td>65</td>\n",
       "    </tr>\n",
       "    <tr>\n",
       "      <th>2</th>\n",
       "      <td>2</td>\n",
       "      <td>22</td>\n",
       "    </tr>\n",
       "    <tr>\n",
       "      <th>3</th>\n",
       "      <td>3</td>\n",
       "      <td>3</td>\n",
       "    </tr>\n",
       "    <tr>\n",
       "      <th>4</th>\n",
       "      <td>4</td>\n",
       "      <td>1</td>\n",
       "    </tr>\n",
       "  </tbody>\n",
       "</table>\n",
       "</div>"
      ],
      "text/plain": [
       "   No of Deaths  CORPS IN WHICH K DEATHS OCCURRED\n",
       "0             0                               109\n",
       "1             1                                65\n",
       "2             2                                22\n",
       "3             3                                 3\n",
       "4             4                                 1"
      ]
     },
     "execution_count": 4,
     "metadata": {},
     "output_type": "execute_result"
    }
   ],
   "source": [
    "Deaths= [0, 1, 2, 3, 4]\n",
    "DEATHS_OCCURRED= [109, 65, 22, 3, 1]\n",
    "data_dict = {'No of Deaths': pd.Series(Deaths), 'CORPS IN WHICH K DEATHS OCCURRED':pd.Series(DEATHS_OCCURRED)}\n",
    "dframe = pd.DataFrame(data_dict)\n",
    "dframe"
   ]
  },
  {
   "cell_type": "code",
   "execution_count": 5,
   "id": "dad9e09f",
   "metadata": {},
   "outputs": [
    {
     "data": {
      "text/plain": [
       "<AxesSubplot:xlabel='No of Deaths'>"
      ]
     },
     "execution_count": 5,
     "metadata": {},
     "output_type": "execute_result"
    },
    {
     "data": {
      "image/png": "[encoded data removed]",
      "text/plain": [
       "<Figure size 432x288 with 1 Axes>"
      ]
     },
     "metadata": {
      "needs_background": "light"
     },
     "output_type": "display_data"
    }
   ],
   "source": [
    "%matplotlib inline\n",
    "dframe.plot.bar(x='No of Deaths', y='CORPS IN WHICH K DEATHS OCCURRED') "
   ]
  },
  {
   "cell_type": "code",
   "execution_count": 6,
   "id": "d61748be",
   "metadata": {},
   "outputs": [
    {
     "data": {
      "text/plain": [
       "<AxesSubplot:xlabel='No of Deaths'>"
      ]
     },
     "execution_count": 6,
     "metadata": {},
     "output_type": "execute_result"
    },
    {
     "data": {
      "image/png": "[encoded data removed]",
      "text/plain": [
       "<Figure size 432x288 with 1 Axes>"
      ]
     },
     "metadata": {
      "needs_background": "light"
     },
     "output_type": "display_data"
    }
   ],
   "source": [
    "#Proportion of deaths = deaths due to a cause/ total deaths\n",
    "\n",
    "m1 = 109/122\n",
    "m2 = 65/122\n",
    "m3 = 22/122\n",
    "m4 = 3/122\n",
    "m5 =1/122\n",
    "\n",
    "dframe['Proportion of Deaths'] = [m1,m2,m3,m4,m5]\n",
    "\n",
    "\n",
    "%matplotlib inline\n",
    "dframe.plot.bar(x='No of Deaths', y='Proportion of Deaths')"
   ]
  },
  {
   "cell_type": "code",
   "execution_count": 10,
   "id": "aac5e607",
   "metadata": {},
   "outputs": [
    {
     "name": "stdout",
     "output_type": "stream",
     "text": [
      "mean: 0.61\n"
     ]
    }
   ],
   "source": [
    "#There were a total of 200 observations and 122 soldiers were killed by horse kick over that 20 years.\n",
    "\n",
    "mean = 122/200;\n",
    "\n",
    "print(\"mean:\", mean)"
   ]
  },
  {
   "cell_type": "code",
   "execution_count": 8,
   "id": "2f183c47",
   "metadata": {},
   "outputs": [
    {
     "name": "stdout",
     "output_type": "stream",
     "text": [
      "0.18044704431548356\n",
      "4\n"
     ]
    }
   ],
   "source": [
    "#To compute probability in python\n",
    "\n",
    "from scipy import stats\n",
    "X = stats.poisson(2)    # Declare X to be a poisson random variable\n",
    "print(X.pmf(3))         # P(X = 3)\n",
    "print(X.rvs())          # Get a random sample from X"
   ]
  },
  {
   "cell_type": "code",
   "execution_count": 9,
   "id": "6ad06af3",
   "metadata": {},
   "outputs": [
    {
     "data": {
      "text/plain": [
       "0.10081881344492458"
      ]
     },
     "execution_count": 9,
     "metadata": {},
     "output_type": "execute_result"
    }
   ],
   "source": [
    "#To compute poisson probability in python\n",
    "\n",
    "#from scipy.stats import poisson\n",
    "\n",
    "#poisson.pmf(k=5, mu=3)    #k is number of success and mu is rate value or lambda"
   ]
  },
  {
   "cell_type": "code",
   "execution_count": 11,
   "id": "c2931725",
   "metadata": {},
   "outputs": [
    {
     "name": "stdout",
     "output_type": "stream",
     "text": [
      "Lambda value:\n",
      "0.61\n"
     ]
    }
   ],
   "source": [
    "#mu = 122/200;\n",
    "mu = mean;\n",
    "print(\"Lambda value:\")\n",
    "print(mu)"
   ]
  },
  {
   "cell_type": "code",
   "execution_count": 12,
   "id": "880b165e",
   "metadata": {},
   "outputs": [
    {
     "data": {
      "text/html": [
       "<div>\n",
       "<style scoped>\n",
       "    .dataframe tbody tr th:only-of-type {\n",
       "        vertical-align: middle;\n",
       "    }\n",
       "\n",
       "    .dataframe tbody tr th {\n",
       "        vertical-align: top;\n",
       "    }\n",
       "\n",
       "    .dataframe thead th {\n",
       "        text-align: right;\n",
       "    }\n",
       "</style>\n",
       "<table border=\"1\" class=\"dataframe\">\n",
       "  <thead>\n",
       "    <tr style=\"text-align: right;\">\n",
       "      <th></th>\n",
       "      <th>No of Deaths</th>\n",
       "      <th>CORPS IN WHICH K DEATHS OCCURRED</th>\n",
       "      <th>Proportion of Deaths</th>\n",
       "      <th>Probability P(X=x)</th>\n",
       "    </tr>\n",
       "  </thead>\n",
       "  <tbody>\n",
       "    <tr>\n",
       "      <th>0</th>\n",
       "      <td>0</td>\n",
       "      <td>109</td>\n",
       "      <td>0.893443</td>\n",
       "      <td>0.543351</td>\n",
       "    </tr>\n",
       "    <tr>\n",
       "      <th>1</th>\n",
       "      <td>1</td>\n",
       "      <td>65</td>\n",
       "      <td>0.532787</td>\n",
       "      <td>0.331444</td>\n",
       "    </tr>\n",
       "    <tr>\n",
       "      <th>2</th>\n",
       "      <td>2</td>\n",
       "      <td>22</td>\n",
       "      <td>0.180328</td>\n",
       "      <td>0.101090</td>\n",
       "    </tr>\n",
       "    <tr>\n",
       "      <th>3</th>\n",
       "      <td>3</td>\n",
       "      <td>3</td>\n",
       "      <td>0.024590</td>\n",
       "      <td>0.020555</td>\n",
       "    </tr>\n",
       "    <tr>\n",
       "      <th>4</th>\n",
       "      <td>4</td>\n",
       "      <td>1</td>\n",
       "      <td>0.008197</td>\n",
       "      <td>0.003135</td>\n",
       "    </tr>\n",
       "  </tbody>\n",
       "</table>\n",
       "</div>"
      ],
      "text/plain": [
       "   No of Deaths  CORPS IN WHICH K DEATHS OCCURRED  Proportion of Deaths  \\\n",
       "0             0                               109              0.893443   \n",
       "1             1                                65              0.532787   \n",
       "2             2                                22              0.180328   \n",
       "3             3                                 3              0.024590   \n",
       "4             4                                 1              0.008197   \n",
       "\n",
       "   Probability P(X=x)  \n",
       "0            0.543351  \n",
       "1            0.331444  \n",
       "2            0.101090  \n",
       "3            0.020555  \n",
       "4            0.003135  "
      ]
     },
     "execution_count": 12,
     "metadata": {},
     "output_type": "execute_result"
    }
   ],
   "source": [
    "from scipy.stats import poisson\n",
    "\n",
    "#mu = 0.61\n",
    "\n",
    "#P(X=0)\n",
    "x0 = poisson.pmf(k=0, mu=0.61)\n",
    "\n",
    "#P(X=1)\n",
    "x1 = poisson.pmf(k=1, mu=0.61)\n",
    "\n",
    "#P(X=2)\n",
    "x2 = poisson.pmf(k=2, mu=0.61)\n",
    "\n",
    "#P(X=3)\n",
    "x3 = poisson.pmf(k=3, mu=0.61)\n",
    "\n",
    "#P(X=4)\n",
    "x4 = poisson.pmf(k=4, mu=0.61)\n",
    "\n",
    "dframe['Probability P(X=x)'] = [x0,x1,x2,x3,x4]\n",
    "dframe"
   ]
  },
  {
   "cell_type": "code",
   "execution_count": 13,
   "id": "2838a6ff",
   "metadata": {},
   "outputs": [
    {
     "data": {
      "text/html": [
       "<div>\n",
       "<style scoped>\n",
       "    .dataframe tbody tr th:only-of-type {\n",
       "        vertical-align: middle;\n",
       "    }\n",
       "\n",
       "    .dataframe tbody tr th {\n",
       "        vertical-align: top;\n",
       "    }\n",
       "\n",
       "    .dataframe thead th {\n",
       "        text-align: right;\n",
       "    }\n",
       "</style>\n",
       "<table border=\"1\" class=\"dataframe\">\n",
       "  <thead>\n",
       "    <tr style=\"text-align: right;\">\n",
       "      <th></th>\n",
       "      <th>No of Deaths</th>\n",
       "      <th>CORPS IN WHICH K DEATHS OCCURRED</th>\n",
       "      <th>Proportion of Deaths</th>\n",
       "      <th>Probability P(X=x)</th>\n",
       "      <th>Predicted number of occurences</th>\n",
       "    </tr>\n",
       "  </thead>\n",
       "  <tbody>\n",
       "    <tr>\n",
       "      <th>0</th>\n",
       "      <td>0</td>\n",
       "      <td>109</td>\n",
       "      <td>0.893443</td>\n",
       "      <td>0.543351</td>\n",
       "      <td>108.670174</td>\n",
       "    </tr>\n",
       "    <tr>\n",
       "      <th>1</th>\n",
       "      <td>1</td>\n",
       "      <td>65</td>\n",
       "      <td>0.532787</td>\n",
       "      <td>0.331444</td>\n",
       "      <td>66.288806</td>\n",
       "    </tr>\n",
       "    <tr>\n",
       "      <th>2</th>\n",
       "      <td>2</td>\n",
       "      <td>22</td>\n",
       "      <td>0.180328</td>\n",
       "      <td>0.101090</td>\n",
       "      <td>20.218086</td>\n",
       "    </tr>\n",
       "    <tr>\n",
       "      <th>3</th>\n",
       "      <td>3</td>\n",
       "      <td>3</td>\n",
       "      <td>0.024590</td>\n",
       "      <td>0.020555</td>\n",
       "      <td>4.111011</td>\n",
       "    </tr>\n",
       "    <tr>\n",
       "      <th>4</th>\n",
       "      <td>4</td>\n",
       "      <td>1</td>\n",
       "      <td>0.008197</td>\n",
       "      <td>0.003135</td>\n",
       "      <td>0.626929</td>\n",
       "    </tr>\n",
       "  </tbody>\n",
       "</table>\n",
       "</div>"
      ],
      "text/plain": [
       "   No of Deaths  CORPS IN WHICH K DEATHS OCCURRED  Proportion of Deaths  \\\n",
       "0             0                               109              0.893443   \n",
       "1             1                                65              0.532787   \n",
       "2             2                                22              0.180328   \n",
       "3             3                                 3              0.024590   \n",
       "4             4                                 1              0.008197   \n",
       "\n",
       "   Probability P(X=x)  Predicted number of occurences  \n",
       "0            0.543351                      108.670174  \n",
       "1            0.331444                       66.288806  \n",
       "2            0.101090                       20.218086  \n",
       "3            0.020555                        4.111011  \n",
       "4            0.003135                        0.626929  "
      ]
     },
     "execution_count": 13,
     "metadata": {},
     "output_type": "execute_result"
    }
   ],
   "source": [
    "#for predicted numbers/frequency\n",
    "\n",
    "datapoints=200;\n",
    "\n",
    "dp0=x0*datapoints\n",
    "dp1=x1*datapoints\n",
    "dp2=x2*datapoints\n",
    "dp3=x3*datapoints\n",
    "dp4=x4*datapoints\n",
    "\n",
    "dframe['Predicted number of occurences'] = [dp0,dp1,dp2,dp3,dp4]\n",
    "dframe"
   ]
  },
  {
   "cell_type": "code",
   "execution_count": 14,
   "id": "75a501cb",
   "metadata": {},
   "outputs": [
    {
     "data": {
      "text/plain": [
       "<AxesSubplot:xlabel='No of Deaths'>"
      ]
     },
     "execution_count": 14,
     "metadata": {},
     "output_type": "execute_result"
    },
    {
     "data": {
      "image/png": "[encoded data removed]",
      "text/plain": [
       "<Figure size 432x288 with 1 Axes>"
      ]
     },
     "metadata": {
      "needs_background": "light"
     },
     "output_type": "display_data"
    }
   ],
   "source": [
    "#Observed freq of deaths and estimated freq of deaths in a graph\n",
    "\n",
    "%matplotlib inline\n",
    "dframe.plot.bar(x='No of Deaths', y=['Predicted number of occurences','CORPS IN WHICH K DEATHS OCCURRED'])\n",
    "\n",
    "#Plot validates the observed and calculated data thus the given data is valid for prussian horse kick"
   ]
  },
  {
   "cell_type": "code",
   "execution_count": 15,
   "id": "fdd303e5",
   "metadata": {},
   "outputs": [
    {
     "data": {
      "text/html": [
       "<div>\n",
       "<style scoped>\n",
       "    .dataframe tbody tr th:only-of-type {\n",
       "        vertical-align: middle;\n",
       "    }\n",
       "\n",
       "    .dataframe tbody tr th {\n",
       "        vertical-align: top;\n",
       "    }\n",
       "\n",
       "    .dataframe thead th {\n",
       "        text-align: right;\n",
       "    }\n",
       "</style>\n",
       "<table border=\"1\" class=\"dataframe\">\n",
       "  <thead>\n",
       "    <tr style=\"text-align: right;\">\n",
       "      <th></th>\n",
       "      <th>CORPS IN WHICH K DEATHS OCCURRED</th>\n",
       "      <th>Predicted number of occurences</th>\n",
       "    </tr>\n",
       "  </thead>\n",
       "  <tbody>\n",
       "    <tr>\n",
       "      <th>0</th>\n",
       "      <td>109</td>\n",
       "      <td>108.670174</td>\n",
       "    </tr>\n",
       "    <tr>\n",
       "      <th>1</th>\n",
       "      <td>65</td>\n",
       "      <td>66.288806</td>\n",
       "    </tr>\n",
       "    <tr>\n",
       "      <th>2</th>\n",
       "      <td>22</td>\n",
       "      <td>20.218086</td>\n",
       "    </tr>\n",
       "    <tr>\n",
       "      <th>3</th>\n",
       "      <td>3</td>\n",
       "      <td>4.111011</td>\n",
       "    </tr>\n",
       "    <tr>\n",
       "      <th>4</th>\n",
       "      <td>1</td>\n",
       "      <td>0.626929</td>\n",
       "    </tr>\n",
       "  </tbody>\n",
       "</table>\n",
       "</div>"
      ],
      "text/plain": [
       "   CORPS IN WHICH K DEATHS OCCURRED  Predicted number of occurences\n",
       "0                               109                      108.670174\n",
       "1                                65                       66.288806\n",
       "2                                22                       20.218086\n",
       "3                                 3                        4.111011\n",
       "4                                 1                        0.626929"
      ]
     },
     "execution_count": 15,
     "metadata": {},
     "output_type": "execute_result"
    }
   ],
   "source": [
    "#chi Square test\n",
    "\n",
    "#observed  = CORPS IN WHICH K DEATHS OCCURRED(given frequence)\n",
    "#expected = Predicted number of occurences(calculated frequency)\n",
    "\n",
    "DEATHS_CAL = [dp0,dp1,dp2,dp3,dp4]\n",
    "DEATHS_OCCURRED = [109,65,22,3,1]\n",
    "\n",
    "data_d = {'CORPS IN WHICH K DEATHS OCCURRED':pd.Series(DEATHS_OCCURRED), 'Predicted number of occurences':pd.Series(DEATHS_CAL)}\n",
    "df = pd.DataFrame(data_d)\n",
    "df"
   ]
  },
  {
   "cell_type": "code",
   "execution_count": 29,
   "id": "4b5893b1",
   "metadata": {},
   "outputs": [
    {
     "name": "stdout",
     "output_type": "stream",
     "text": [
      "Null hypothesis accepted\n"
     ]
    }
   ],
   "source": [
    "#formula x**2 = summation for((observed-Expected)**2)/expected\n",
    "\n",
    "ex0 = DEATHS_OCCURRED[0]-DEATHS_CAL[0]\n",
    "ex1 = DEATHS_OCCURRED[1]-DEATHS_CAL[1]\n",
    "ex2 = DEATHS_OCCURRED[2]-DEATHS_CAL[2]\n",
    "ex3 = DEATHS_OCCURRED[3]-DEATHS_CAL[3]\n",
    "ex4 = DEATHS_OCCURRED[4]-DEATHS_CAL[4]\n",
    "\n",
    "exx0 = (ex0*ex0)/DEATHS_CAL[0]\n",
    "exx1 = (ex1*ex1)/DEATHS_CAL[1]\n",
    "exx2 = (ex2*ex2)/DEATHS_CAL[2]\n",
    "exx3 = (ex3*ex3)/DEATHS_CAL[3]\n",
    "exx4 = (ex4*ex4)/DEATHS_CAL[4]\n",
    "\n",
    "cal_chi = exx0+exx1+exx2+exx3+exx4\n",
    "\n",
    "deg_of_freedom = 5-1\n",
    "\n",
    "#taking 5% level of significance.\n",
    "\n",
    "tab_chi = 9.488\n",
    "\n",
    "if cal_chi>tab_chi:\n",
    "    print(\"Null hypothesis rejected\")\n",
    "    \n",
    "else:\n",
    "    print(\"Null hypothesis accepted\")    #thus the given calculation validates the prussian horse kick data."
   ]
  },
  {
   "cell_type": "code",
   "execution_count": 36,
   "id": "2aca3b4f",
   "metadata": {},
   "outputs": [],
   "source": [
    "#another way for chi square test\n",
    "\n",
    "#from scipy.stats import chi2_contingency\n",
    "#chiVal, pVal, df, exp = chi2_contingency(df)\n",
    "#chiVal, pVal, df, exp"
   ]
  },
  {
   "cell_type": "code",
   "execution_count": 34,
   "id": "4d0ab0f5",
   "metadata": {},
   "outputs": [],
   "source": [
    "#exp.min()"
   ]
  },
  {
   "cell_type": "code",
   "execution_count": 35,
   "id": "65708d67",
   "metadata": {},
   "outputs": [],
   "source": [
    "#len(exp[exp<5])/len(exp)*100"
   ]
  },
  {
   "cell_type": "code",
   "execution_count": 33,
   "id": "a8c2fa92",
   "metadata": {},
   "outputs": [],
   "source": [
    "#val = stats.chi2_contingency(df)\n",
    "#val"
   ]
  },
  {
   "cell_type": "code",
   "execution_count": 32,
   "id": "b1440c74",
   "metadata": {},
   "outputs": [],
   "source": [
    "#Expected_Values = val[3]"
   ]
  },
  {
   "cell_type": "code",
   "execution_count": 31,
   "id": "d3910749",
   "metadata": {},
   "outputs": [],
   "source": [
    "#no_of_rows = len(df.iloc[0:2,0])\n",
    "#no_of_columns = len(df.iloc[0,0:2])\n",
    "#degfree = (no_of_rows-1)*(no_of_columns-1)\n",
    "#degfree\n",
    "#alpha = 0.05"
   ]
  },
  {
   "cell_type": "code",
   "execution_count": 30,
   "id": "f8687b9c",
   "metadata": {},
   "outputs": [],
   "source": [
    "#Observed_Values = [109,65,22,3,1]\n",
    "\n",
    "#from scipy.stats import chi2\n",
    "#chi_square = sum([(o-e)**2./e for o,e in zip[Observed_Values,Expected_Values]])\n",
    "#chi_square_statistic = chi_square[0]+chi_square[1]\n",
    "#print(\"chi_square_statistic:\",chi_square_statistic)\n",
    "#critical_value = chi2.ppf(q = 1-alpha, ddff = degfree)\n",
    "#print(\"critical_value:\",critical_value)\n",
    "#pvalue = 1-chi2.cdf(x = chi_square_statistic, ddff = degfree)\n",
    "#pvalue\n",
    "#alpha\n",
    "#degfree\n",
    "#pvalue\n",
    "#if chi_square_statistic>=critical_value:\n",
    "#    print(\"Reject H0\")\n",
    "#else:\n",
    "#    print(\"Accept H0\")\n",
    "    \n",
    "#if pvalue<=alpha:\n",
    "#    print(\"Reject H0\")\n",
    "#else:\n",
    "#    print(\"H0 accepted\")"
   ]
  },
  {
   "cell_type": "code",
   "execution_count": null,
   "id": "138a7b02",
   "metadata": {},
   "outputs": [],
   "source": []
  }
 ],
 "metadata": {
  "kernelspec": {
   "display_name": "Python 3 (ipykernel)",
   "language": "python",
   "name": "python3"
  },
  "language_info": {
   "codemirror_mode": {
    "name": "ipython",
    "version": 3
   },
   "file_extension": ".py",
   "mimetype": "text/x-python",
   "name": "python",
   "nbconvert_exporter": "python",
   "pygments_lexer": "ipython3",
   "version": "3.9.12"
  }
 },
 "nbformat": 4,
 "nbformat_minor": 5
}
